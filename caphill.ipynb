{
 "cells": [
  {
   "cell_type": "markdown",
   "metadata": {},
   "source": [
    "# Capitol Hill Restaurants"
   ]
  },
  {
   "cell_type": "markdown",
   "metadata": {},
   "source": [
    "## Menya Musashi Tsukemen & Ramen\n",
    "\n",
    "Really good dipping ramen! And well priced for Cap Hill.\n",
    "\n",
    "### My go-tos\n",
    "1. The happy hour the last time I went was a really good deal! $5 drink + appetizer\n",
    "2. I usually get the Hybrid Tsukemen (garlic, \"spicy\" aka not spicy, dipping ramen)\n",
    "3. Katsu appetizer is good\n",
    "4. Original takoyaki balls also good"
   ]
  },
  {
   "cell_type": "markdown",
   "metadata": {},
   "source": [
    "# Kedai Makan\n",
    "\n",
    "Malaysian food. Takes forever to get a table and they don't take reservations. I'd suggest show up an hour or 2 earlier than you'd like to eat, put your name down and go do something else.\n",
    "\n",
    "### My go-tos\n",
    "1. Kerabu Timun Nanas: The cucumber salad. It's very acidic which I really like but might not be for everyone\n",
    "2. Ayam Goreng Berempah: Fried chicken and rice. \n",
    "3. (Not always available) Ribs\n",
    "3. (Not always available) Frog legs\n",
    "3. Coconut Shake: Super creamy and tropical. I have it like a dessert\n"
   ]
  },
  {
   "cell_type": "markdown",
   "metadata": {},
   "source": [
    "# Spinasse/Artusi\n",
    "\n",
    "Really good pasta. Pricier so I usually go for more special occasions. These are sister restuarants which have similar menus but Artusi is supposed to be more of a \"bar\" but in my opinion both seem like a restaurant.\n",
    "\n",
    "### My go-tos\n",
    "\n",
    "These have rotating menus so not a super consistent recommendation\n",
    "\n",
    "1. Beef tongue at Artusi\n",
    "1. Seafood risotto at Spinasse\n",
    "1. Grilled cauliflower or brocolli in anchovy sauce\n"
   ]
  }
 ],
 "metadata": {
  "language_info": {
   "name": "python"
  },
  "orig_nbformat": 4
 },
 "nbformat": 4,
 "nbformat_minor": 2
}
